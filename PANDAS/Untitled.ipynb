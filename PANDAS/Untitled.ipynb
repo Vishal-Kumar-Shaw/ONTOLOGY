{
 "cells": [
  {
   "cell_type": "code",
   "execution_count": 1,
   "id": "21e38d82",
   "metadata": {},
   "outputs": [],
   "source": [
    "import numpy as np\n",
    "import pandas as pd"
   ]
  },
  {
   "cell_type": "code",
   "execution_count": 2,
   "id": "2216e49b",
   "metadata": {},
   "outputs": [],
   "source": [
    "dict1 = {\n",
    "    \" name\" : ['Vishal', 'Santosh', 'Shubham'],\n",
    "    \"Marks\" : [92,89,99],\n",
    "    \"City\" : ['Raniganj', 'Kankarsole', 'Neamatpur']\n",
    "    \n",
    "}"
   ]
  },
  {
   "cell_type": "code",
   "execution_count": 3,
   "id": "0149cd49",
   "metadata": {},
   "outputs": [],
   "source": [
    "df = pd.DataFrame(dict1)"
   ]
  },
  {
   "cell_type": "code",
   "execution_count": 4,
   "id": "5ef69e6a",
   "metadata": {},
   "outputs": [
    {
     "data": {
      "text/html": [
       "<div>\n",
       "<style scoped>\n",
       "    .dataframe tbody tr th:only-of-type {\n",
       "        vertical-align: middle;\n",
       "    }\n",
       "\n",
       "    .dataframe tbody tr th {\n",
       "        vertical-align: top;\n",
       "    }\n",
       "\n",
       "    .dataframe thead th {\n",
       "        text-align: right;\n",
       "    }\n",
       "</style>\n",
       "<table border=\"1\" class=\"dataframe\">\n",
       "  <thead>\n",
       "    <tr style=\"text-align: right;\">\n",
       "      <th></th>\n",
       "      <th>name</th>\n",
       "      <th>Marks</th>\n",
       "      <th>City</th>\n",
       "    </tr>\n",
       "  </thead>\n",
       "  <tbody>\n",
       "    <tr>\n",
       "      <th>0</th>\n",
       "      <td>Vishal</td>\n",
       "      <td>92</td>\n",
       "      <td>Raniganj</td>\n",
       "    </tr>\n",
       "    <tr>\n",
       "      <th>1</th>\n",
       "      <td>Santosh</td>\n",
       "      <td>89</td>\n",
       "      <td>Kankarsole</td>\n",
       "    </tr>\n",
       "    <tr>\n",
       "      <th>2</th>\n",
       "      <td>Shubham</td>\n",
       "      <td>99</td>\n",
       "      <td>Neamatpur</td>\n",
       "    </tr>\n",
       "  </tbody>\n",
       "</table>\n",
       "</div>"
      ],
      "text/plain": [
       "      name  Marks        City\n",
       "0   Vishal     92    Raniganj\n",
       "1  Santosh     89  Kankarsole\n",
       "2  Shubham     99   Neamatpur"
      ]
     },
     "execution_count": 4,
     "metadata": {},
     "output_type": "execute_result"
    }
   ],
   "source": [
    "df\n"
   ]
  },
  {
   "cell_type": "code",
   "execution_count": 5,
   "id": "5c3f9683",
   "metadata": {},
   "outputs": [],
   "source": [
    "df.to_csv('friends_without_index.csv', index=False)"
   ]
  },
  {
   "cell_type": "code",
   "execution_count": 6,
   "id": "03f637df",
   "metadata": {},
   "outputs": [
    {
     "data": {
      "text/html": [
       "<div>\n",
       "<style scoped>\n",
       "    .dataframe tbody tr th:only-of-type {\n",
       "        vertical-align: middle;\n",
       "    }\n",
       "\n",
       "    .dataframe tbody tr th {\n",
       "        vertical-align: top;\n",
       "    }\n",
       "\n",
       "    .dataframe thead th {\n",
       "        text-align: right;\n",
       "    }\n",
       "</style>\n",
       "<table border=\"1\" class=\"dataframe\">\n",
       "  <thead>\n",
       "    <tr style=\"text-align: right;\">\n",
       "      <th></th>\n",
       "      <th>name</th>\n",
       "      <th>Marks</th>\n",
       "      <th>City</th>\n",
       "    </tr>\n",
       "  </thead>\n",
       "  <tbody>\n",
       "    <tr>\n",
       "      <th>0</th>\n",
       "      <td>Vishal</td>\n",
       "      <td>92</td>\n",
       "      <td>Raniganj</td>\n",
       "    </tr>\n",
       "    <tr>\n",
       "      <th>1</th>\n",
       "      <td>Santosh</td>\n",
       "      <td>89</td>\n",
       "      <td>Kankarsole</td>\n",
       "    </tr>\n",
       "    <tr>\n",
       "      <th>2</th>\n",
       "      <td>Shubham</td>\n",
       "      <td>99</td>\n",
       "      <td>Neamatpur</td>\n",
       "    </tr>\n",
       "  </tbody>\n",
       "</table>\n",
       "</div>"
      ],
      "text/plain": [
       "      name  Marks        City\n",
       "0   Vishal     92    Raniganj\n",
       "1  Santosh     89  Kankarsole\n",
       "2  Shubham     99   Neamatpur"
      ]
     },
     "execution_count": 6,
     "metadata": {},
     "output_type": "execute_result"
    }
   ],
   "source": [
    "df.head(5)"
   ]
  },
  {
   "cell_type": "code",
   "execution_count": 7,
   "id": "b47e64fa",
   "metadata": {},
   "outputs": [
    {
     "ename": "AttributeError",
     "evalue": "'DataFrame' object has no attribute 'tali'",
     "output_type": "error",
     "traceback": [
      "\u001b[1;31m---------------------------------------------------------------------------\u001b[0m",
      "\u001b[1;31mAttributeError\u001b[0m                            Traceback (most recent call last)",
      "\u001b[1;32m~\\AppData\\Local\\Temp/ipykernel_11176/676781360.py\u001b[0m in \u001b[0;36m<module>\u001b[1;34m\u001b[0m\n\u001b[1;32m----> 1\u001b[1;33m \u001b[0mdf\u001b[0m\u001b[1;33m.\u001b[0m\u001b[0mtali\u001b[0m\u001b[1;33m(\u001b[0m\u001b[1;36m2\u001b[0m\u001b[1;33m)\u001b[0m\u001b[1;33m\u001b[0m\u001b[1;33m\u001b[0m\u001b[0m\n\u001b[0m",
      "\u001b[1;32mc:\\users\\vishal\\appdata\\local\\programs\\python\\python39\\lib\\site-packages\\pandas\\core\\generic.py\u001b[0m in \u001b[0;36m__getattr__\u001b[1;34m(self, name)\u001b[0m\n\u001b[0;32m   5476\u001b[0m         ):\n\u001b[0;32m   5477\u001b[0m             \u001b[1;32mreturn\u001b[0m \u001b[0mself\u001b[0m\u001b[1;33m[\u001b[0m\u001b[0mname\u001b[0m\u001b[1;33m]\u001b[0m\u001b[1;33m\u001b[0m\u001b[1;33m\u001b[0m\u001b[0m\n\u001b[1;32m-> 5478\u001b[1;33m         \u001b[1;32mreturn\u001b[0m \u001b[0mobject\u001b[0m\u001b[1;33m.\u001b[0m\u001b[0m__getattribute__\u001b[0m\u001b[1;33m(\u001b[0m\u001b[0mself\u001b[0m\u001b[1;33m,\u001b[0m \u001b[0mname\u001b[0m\u001b[1;33m)\u001b[0m\u001b[1;33m\u001b[0m\u001b[1;33m\u001b[0m\u001b[0m\n\u001b[0m\u001b[0;32m   5479\u001b[0m \u001b[1;33m\u001b[0m\u001b[0m\n\u001b[0;32m   5480\u001b[0m     \u001b[1;32mdef\u001b[0m \u001b[0m__setattr__\u001b[0m\u001b[1;33m(\u001b[0m\u001b[0mself\u001b[0m\u001b[1;33m,\u001b[0m \u001b[0mname\u001b[0m\u001b[1;33m:\u001b[0m \u001b[0mstr\u001b[0m\u001b[1;33m,\u001b[0m \u001b[0mvalue\u001b[0m\u001b[1;33m)\u001b[0m \u001b[1;33m->\u001b[0m \u001b[1;32mNone\u001b[0m\u001b[1;33m:\u001b[0m\u001b[1;33m\u001b[0m\u001b[1;33m\u001b[0m\u001b[0m\n",
      "\u001b[1;31mAttributeError\u001b[0m: 'DataFrame' object has no attribute 'tali'"
     ]
    }
   ],
   "source": [
    "df.tali(2)"
   ]
  },
  {
   "cell_type": "code",
   "execution_count": null,
   "id": "8e3143f8",
   "metadata": {},
   "outputs": [],
   "source": [
    "df.tail(2)"
   ]
  },
  {
   "cell_type": "code",
   "execution_count": null,
   "id": "69109e85",
   "metadata": {},
   "outputs": [],
   "source": [
    "df.describe()"
   ]
  },
  {
   "cell_type": "code",
   "execution_count": null,
   "id": "ce1a3282",
   "metadata": {},
   "outputs": [],
   "source": [
    "train = pd.read_csv('train.csv')"
   ]
  },
  {
   "cell_type": "code",
   "execution_count": null,
   "id": "7a860892",
   "metadata": {},
   "outputs": [],
   "source": [
    "vishal = pd.read_csv(train.csv)"
   ]
  },
  {
   "cell_type": "code",
   "execution_count": null,
   "id": "985b7457",
   "metadata": {},
   "outputs": [],
   "source": [
    "vishal = pd.read_csv(train.csv)"
   ]
  },
  {
   "cell_type": "code",
   "execution_count": null,
   "id": "86286557",
   "metadata": {},
   "outputs": [],
   "source": [
    "vishal = pd.read_csv('train.csv')"
   ]
  },
  {
   "cell_type": "code",
   "execution_count": null,
   "id": "8a2e7199",
   "metadata": {},
   "outputs": [],
   "source": [
    "vishal = pd.read_csv('train.csv')"
   ]
  },
  {
   "cell_type": "code",
   "execution_count": null,
   "id": "95137f0a",
   "metadata": {},
   "outputs": [],
   "source": [
    "vishal = pd.read_csv('friends.csv')"
   ]
  },
  {
   "cell_type": "code",
   "execution_count": null,
   "id": "6cf94875",
   "metadata": {},
   "outputs": [],
   "source": [
    "vishal"
   ]
  },
  {
   "cell_type": "code",
   "execution_count": null,
   "id": "c82d3eb5",
   "metadata": {},
   "outputs": [],
   "source": [
    "vishal = pd.read_csv(\"friends.csv\")"
   ]
  },
  {
   "cell_type": "code",
   "execution_count": null,
   "id": "286cad28",
   "metadata": {},
   "outputs": [],
   "source": [
    "vishal"
   ]
  },
  {
   "cell_type": "code",
   "execution_count": null,
   "id": "b882dae0",
   "metadata": {},
   "outputs": [],
   "source": [
    "suraj = pd.read_csv(\"train.csv\")"
   ]
  },
  {
   "cell_type": "code",
   "execution_count": null,
   "id": "dd7f65ab",
   "metadata": {},
   "outputs": [],
   "source": [
    "vishal['City'][0]='Bengluru'"
   ]
  },
  {
   "cell_type": "code",
   "execution_count": null,
   "id": "cf81e3d3",
   "metadata": {},
   "outputs": [],
   "source": [
    "vishal['City'][0]=\"Bengluru\""
   ]
  },
  {
   "cell_type": "code",
   "execution_count": null,
   "id": "0efbf827",
   "metadata": {},
   "outputs": [],
   "source": [
    "friends['City'][0]=\"Bengluru\""
   ]
  },
  {
   "cell_type": "code",
   "execution_count": null,
   "id": "b442df6d",
   "metadata": {},
   "outputs": [],
   "source": [
    "vishal['Marks'][0]=54"
   ]
  },
  {
   "cell_type": "code",
   "execution_count": null,
   "id": "7b4fe3ce",
   "metadata": {},
   "outputs": [],
   "source": [
    "vishal.is_copy = false"
   ]
  },
  {
   "cell_type": "code",
   "execution_count": null,
   "id": "b8f10fdc",
   "metadata": {},
   "outputs": [],
   "source": [
    "vishal.is_copy = False"
   ]
  },
  {
   "cell_type": "code",
   "execution_count": null,
   "id": "228cd43c",
   "metadata": {},
   "outputs": [],
   "source": [
    "vishal['Marks'][0]=54"
   ]
  },
  {
   "cell_type": "code",
   "execution_count": null,
   "id": "14d7b797",
   "metadata": {},
   "outputs": [],
   "source": [
    "vishal\n"
   ]
  },
  {
   "cell_type": "code",
   "execution_count": null,
   "id": "ccdfa887",
   "metadata": {},
   "outputs": [],
   "source": [
    "vishal.to_csv(friends.csv)"
   ]
  },
  {
   "cell_type": "code",
   "execution_count": null,
   "id": "a2384fa5",
   "metadata": {},
   "outputs": [],
   "source": [
    "vishal.to_csv('friends.csv')"
   ]
  },
  {
   "cell_type": "code",
   "execution_count": null,
   "id": "8064b157",
   "metadata": {},
   "outputs": [],
   "source": [
    "friends"
   ]
  },
  {
   "cell_type": "code",
   "execution_count": null,
   "id": "9ffb10dd",
   "metadata": {},
   "outputs": [],
   "source": [
    "vishal"
   ]
  },
  {
   "cell_type": "code",
   "execution_count": null,
   "id": "e414f6ea",
   "metadata": {},
   "outputs": [],
   "source": [
    "friends.index =[ 'First', 'Second', 'Third', 'Fourth']"
   ]
  },
  {
   "cell_type": "code",
   "execution_count": null,
   "id": "5d007c73",
   "metadata": {},
   "outputs": [],
   "source": [
    "friends"
   ]
  },
  {
   "cell_type": "code",
   "execution_count": null,
   "id": "c9aadb7d",
   "metadata": {},
   "outputs": [],
   "source": []
  }
 ],
 "metadata": {
  "kernelspec": {
   "display_name": "Python 3 (ipykernel)",
   "language": "python",
   "name": "python3"
  },
  "language_info": {
   "codemirror_mode": {
    "name": "ipython",
    "version": 3
   },
   "file_extension": ".py",
   "mimetype": "text/x-python",
   "name": "python",
   "nbconvert_exporter": "python",
   "pygments_lexer": "ipython3",
   "version": "3.9.4"
  }
 },
 "nbformat": 4,
 "nbformat_minor": 5
}
